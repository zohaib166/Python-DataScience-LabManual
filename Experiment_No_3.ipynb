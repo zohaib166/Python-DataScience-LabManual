{
  "cells": [
    {
      "cell_type": "markdown",
      "metadata": {
        "id": "view-in-github",
        "colab_type": "text"
      },
      "source": [
        "<a href=\"https://colab.research.google.com/github/zohaib166/Python-DataScience-LabManual/blob/main/Experiment_No_3.ipynb\" target=\"_parent\"><img src=\"https://colab.research.google.com/assets/colab-badge.svg\" alt=\"Open In Colab\"/></a>"
      ]
    },
    {
      "cell_type": "markdown",
      "metadata": {
        "id": "rC7h7Dech5mJ"
      },
      "source": [
        "# Experiment No 3\n",
        "___\n",
        "### Ecommerce Purchases Exercise\n",
        "____\n",
        "**Import pandas and read in the Ecommerce Purchases csv file and set it to a DataFrame called *ecom*.**\n",
        "\n",
        "**Link to the Dataset:**\n",
        "https://raw.githubusercontent.com/zohaib166/Python-DataScience-LabManual/main/Ecommerce.csv"
      ]
    },
    {
      "cell_type": "code",
      "execution_count": null,
      "metadata": {
        "id": "jd8AF41-h5mM"
      },
      "outputs": [],
      "source": []
    },
    {
      "cell_type": "code",
      "execution_count": null,
      "metadata": {
        "id": "YaDKulX_h5mN"
      },
      "outputs": [],
      "source": []
    },
    {
      "cell_type": "markdown",
      "metadata": {
        "id": "8X6GaiA-h5mN"
      },
      "source": [
        "**Check the head of the DataFrame.**"
      ]
    },
    {
      "cell_type": "code",
      "execution_count": null,
      "metadata": {
        "id": "V4tGxeXph5mO",
        "outputId": "883b5a80-7c2c-4f61-d9ba-683f300f1e57"
      },
      "outputs": [
        {
          "data": {
            "text/html": [
              "<div>\n",
              "<style scoped>\n",
              "    .dataframe tbody tr th:only-of-type {\n",
              "        vertical-align: middle;\n",
              "    }\n",
              "\n",
              "    .dataframe tbody tr th {\n",
              "        vertical-align: top;\n",
              "    }\n",
              "\n",
              "    .dataframe thead th {\n",
              "        text-align: right;\n",
              "    }\n",
              "</style>\n",
              "<table border=\"1\" class=\"dataframe\">\n",
              "  <thead>\n",
              "    <tr style=\"text-align: right;\">\n",
              "      <th></th>\n",
              "      <th>Lot</th>\n",
              "      <th>AM or PM</th>\n",
              "      <th>Browser Info</th>\n",
              "      <th>Company</th>\n",
              "      <th>Credit Card</th>\n",
              "      <th>CC Exp Date</th>\n",
              "      <th>CC Security Code</th>\n",
              "      <th>CC Provider</th>\n",
              "      <th>Email</th>\n",
              "      <th>Job</th>\n",
              "      <th>IP Address</th>\n",
              "      <th>Language</th>\n",
              "      <th>Purchase Price</th>\n",
              "    </tr>\n",
              "    <tr>\n",
              "      <th>Address</th>\n",
              "      <th></th>\n",
              "      <th></th>\n",
              "      <th></th>\n",
              "      <th></th>\n",
              "      <th></th>\n",
              "      <th></th>\n",
              "      <th></th>\n",
              "      <th></th>\n",
              "      <th></th>\n",
              "      <th></th>\n",
              "      <th></th>\n",
              "      <th></th>\n",
              "      <th></th>\n",
              "    </tr>\n",
              "  </thead>\n",
              "  <tbody>\n",
              "    <tr>\n",
              "      <th>16629 Pace Camp Apt. 448\\nAlexisborough, NE 77130-7478</th>\n",
              "      <td>46 in</td>\n",
              "      <td>PM</td>\n",
              "      <td>Opera/9.56.(X11; Linux x86_64; sl-SI) Presto/2...</td>\n",
              "      <td>Martinez-Herman</td>\n",
              "      <td>6011929061123406</td>\n",
              "      <td>02/20</td>\n",
              "      <td>900</td>\n",
              "      <td>JCB 16 digit</td>\n",
              "      <td>pdunlap@yahoo.com</td>\n",
              "      <td>Scientist, product/process development</td>\n",
              "      <td>149.146.147.205</td>\n",
              "      <td>el</td>\n",
              "      <td>98.14</td>\n",
              "    </tr>\n",
              "    <tr>\n",
              "      <th>9374 Jasmine Spurs Suite 508\\nSouth John, TN 84355-4179</th>\n",
              "      <td>28 rn</td>\n",
              "      <td>PM</td>\n",
              "      <td>Opera/8.93.(Windows 98; Win 9x 4.90; en-US) Pr...</td>\n",
              "      <td>Fletcher, Richards and Whitaker</td>\n",
              "      <td>3337758169645356</td>\n",
              "      <td>11/18</td>\n",
              "      <td>561</td>\n",
              "      <td>Mastercard</td>\n",
              "      <td>anthony41@reed.com</td>\n",
              "      <td>Drilling engineer</td>\n",
              "      <td>15.160.41.51</td>\n",
              "      <td>fr</td>\n",
              "      <td>70.73</td>\n",
              "    </tr>\n",
              "    <tr>\n",
              "      <th>Unit 0065 Box 5052\\nDPO AP 27450</th>\n",
              "      <td>94 vE</td>\n",
              "      <td>PM</td>\n",
              "      <td>Mozilla/5.0 (compatible; MSIE 9.0; Windows NT ...</td>\n",
              "      <td>Simpson, Williams and Pham</td>\n",
              "      <td>675957666125</td>\n",
              "      <td>08/19</td>\n",
              "      <td>699</td>\n",
              "      <td>JCB 16 digit</td>\n",
              "      <td>amymiller@morales-harrison.com</td>\n",
              "      <td>Customer service manager</td>\n",
              "      <td>132.207.160.22</td>\n",
              "      <td>de</td>\n",
              "      <td>0.95</td>\n",
              "    </tr>\n",
              "    <tr>\n",
              "      <th>7780 Julia Fords\\nNew Stacy, WA 45798</th>\n",
              "      <td>36 vm</td>\n",
              "      <td>PM</td>\n",
              "      <td>Mozilla/5.0 (Macintosh; Intel Mac OS X 10_8_0 ...</td>\n",
              "      <td>Williams, Marshall and Buchanan</td>\n",
              "      <td>6011578504430710</td>\n",
              "      <td>02/24</td>\n",
              "      <td>384</td>\n",
              "      <td>Discover</td>\n",
              "      <td>brent16@olson-robinson.info</td>\n",
              "      <td>Drilling engineer</td>\n",
              "      <td>30.250.74.19</td>\n",
              "      <td>es</td>\n",
              "      <td>78.04</td>\n",
              "    </tr>\n",
              "    <tr>\n",
              "      <th>23012 Munoz Drive Suite 337\\nNew Cynthia, TX 57826</th>\n",
              "      <td>20 IE</td>\n",
              "      <td>AM</td>\n",
              "      <td>Opera/9.58.(X11; Linux x86_64; it-IT) Presto/2...</td>\n",
              "      <td>Brown, Watson and Andrews</td>\n",
              "      <td>6011456623207998</td>\n",
              "      <td>10/25</td>\n",
              "      <td>678</td>\n",
              "      <td>Diners Club / Carte Blanche</td>\n",
              "      <td>christopherwright@gmail.com</td>\n",
              "      <td>Fine artist</td>\n",
              "      <td>24.140.33.94</td>\n",
              "      <td>es</td>\n",
              "      <td>77.82</td>\n",
              "    </tr>\n",
              "  </tbody>\n",
              "</table>\n",
              "</div>"
            ],
            "text/plain": [
              "                                                      Lot AM or PM  \\\n",
              "Address                                                              \n",
              "16629 Pace Camp Apt. 448\\nAlexisborough, NE 771...  46 in       PM   \n",
              "9374 Jasmine Spurs Suite 508\\nSouth John, TN 84...  28 rn       PM   \n",
              "Unit 0065 Box 5052\\nDPO AP 27450                    94 vE       PM   \n",
              "7780 Julia Fords\\nNew Stacy, WA 45798               36 vm       PM   \n",
              "23012 Munoz Drive Suite 337\\nNew Cynthia, TX 57826  20 IE       AM   \n",
              "\n",
              "                                                                                         Browser Info  \\\n",
              "Address                                                                                                 \n",
              "16629 Pace Camp Apt. 448\\nAlexisborough, NE 771...  Opera/9.56.(X11; Linux x86_64; sl-SI) Presto/2...   \n",
              "9374 Jasmine Spurs Suite 508\\nSouth John, TN 84...  Opera/8.93.(Windows 98; Win 9x 4.90; en-US) Pr...   \n",
              "Unit 0065 Box 5052\\nDPO AP 27450                    Mozilla/5.0 (compatible; MSIE 9.0; Windows NT ...   \n",
              "7780 Julia Fords\\nNew Stacy, WA 45798               Mozilla/5.0 (Macintosh; Intel Mac OS X 10_8_0 ...   \n",
              "23012 Munoz Drive Suite 337\\nNew Cynthia, TX 57826  Opera/9.58.(X11; Linux x86_64; it-IT) Presto/2...   \n",
              "\n",
              "                                                                            Company  \\\n",
              "Address                                                                               \n",
              "16629 Pace Camp Apt. 448\\nAlexisborough, NE 771...                  Martinez-Herman   \n",
              "9374 Jasmine Spurs Suite 508\\nSouth John, TN 84...  Fletcher, Richards and Whitaker   \n",
              "Unit 0065 Box 5052\\nDPO AP 27450                         Simpson, Williams and Pham   \n",
              "7780 Julia Fords\\nNew Stacy, WA 45798               Williams, Marshall and Buchanan   \n",
              "23012 Munoz Drive Suite 337\\nNew Cynthia, TX 57826        Brown, Watson and Andrews   \n",
              "\n",
              "                                                         Credit Card  \\\n",
              "Address                                                                \n",
              "16629 Pace Camp Apt. 448\\nAlexisborough, NE 771...  6011929061123406   \n",
              "9374 Jasmine Spurs Suite 508\\nSouth John, TN 84...  3337758169645356   \n",
              "Unit 0065 Box 5052\\nDPO AP 27450                        675957666125   \n",
              "7780 Julia Fords\\nNew Stacy, WA 45798               6011578504430710   \n",
              "23012 Munoz Drive Suite 337\\nNew Cynthia, TX 57826  6011456623207998   \n",
              "\n",
              "                                                   CC Exp Date  \\\n",
              "Address                                                          \n",
              "16629 Pace Camp Apt. 448\\nAlexisborough, NE 771...       02/20   \n",
              "9374 Jasmine Spurs Suite 508\\nSouth John, TN 84...       11/18   \n",
              "Unit 0065 Box 5052\\nDPO AP 27450                         08/19   \n",
              "7780 Julia Fords\\nNew Stacy, WA 45798                    02/24   \n",
              "23012 Munoz Drive Suite 337\\nNew Cynthia, TX 57826       10/25   \n",
              "\n",
              "                                                    CC Security Code  \\\n",
              "Address                                                                \n",
              "16629 Pace Camp Apt. 448\\nAlexisborough, NE 771...               900   \n",
              "9374 Jasmine Spurs Suite 508\\nSouth John, TN 84...               561   \n",
              "Unit 0065 Box 5052\\nDPO AP 27450                                 699   \n",
              "7780 Julia Fords\\nNew Stacy, WA 45798                            384   \n",
              "23012 Munoz Drive Suite 337\\nNew Cynthia, TX 57826               678   \n",
              "\n",
              "                                                                    CC Provider  \\\n",
              "Address                                                                           \n",
              "16629 Pace Camp Apt. 448\\nAlexisborough, NE 771...                 JCB 16 digit   \n",
              "9374 Jasmine Spurs Suite 508\\nSouth John, TN 84...                   Mastercard   \n",
              "Unit 0065 Box 5052\\nDPO AP 27450                                   JCB 16 digit   \n",
              "7780 Julia Fords\\nNew Stacy, WA 45798                                  Discover   \n",
              "23012 Munoz Drive Suite 337\\nNew Cynthia, TX 57826  Diners Club / Carte Blanche   \n",
              "\n",
              "                                                                             Email  \\\n",
              "Address                                                                              \n",
              "16629 Pace Camp Apt. 448\\nAlexisborough, NE 771...               pdunlap@yahoo.com   \n",
              "9374 Jasmine Spurs Suite 508\\nSouth John, TN 84...              anthony41@reed.com   \n",
              "Unit 0065 Box 5052\\nDPO AP 27450                    amymiller@morales-harrison.com   \n",
              "7780 Julia Fords\\nNew Stacy, WA 45798                  brent16@olson-robinson.info   \n",
              "23012 Munoz Drive Suite 337\\nNew Cynthia, TX 57826     christopherwright@gmail.com   \n",
              "\n",
              "                                                                                       Job  \\\n",
              "Address                                                                                      \n",
              "16629 Pace Camp Apt. 448\\nAlexisborough, NE 771...  Scientist, product/process development   \n",
              "9374 Jasmine Spurs Suite 508\\nSouth John, TN 84...                       Drilling engineer   \n",
              "Unit 0065 Box 5052\\nDPO AP 27450                                  Customer service manager   \n",
              "7780 Julia Fords\\nNew Stacy, WA 45798                                    Drilling engineer   \n",
              "23012 Munoz Drive Suite 337\\nNew Cynthia, TX 57826                             Fine artist   \n",
              "\n",
              "                                                         IP Address Language  \\\n",
              "Address                                                                        \n",
              "16629 Pace Camp Apt. 448\\nAlexisborough, NE 771...  149.146.147.205       el   \n",
              "9374 Jasmine Spurs Suite 508\\nSouth John, TN 84...     15.160.41.51       fr   \n",
              "Unit 0065 Box 5052\\nDPO AP 27450                     132.207.160.22       de   \n",
              "7780 Julia Fords\\nNew Stacy, WA 45798                  30.250.74.19       es   \n",
              "23012 Munoz Drive Suite 337\\nNew Cynthia, TX 57826     24.140.33.94       es   \n",
              "\n",
              "                                                    Purchase Price  \n",
              "Address                                                             \n",
              "16629 Pace Camp Apt. 448\\nAlexisborough, NE 771...           98.14  \n",
              "9374 Jasmine Spurs Suite 508\\nSouth John, TN 84...           70.73  \n",
              "Unit 0065 Box 5052\\nDPO AP 27450                              0.95  \n",
              "7780 Julia Fords\\nNew Stacy, WA 45798                        78.04  \n",
              "23012 Munoz Drive Suite 337\\nNew Cynthia, TX 57826           77.82  "
            ]
          },
          "execution_count": 8,
          "metadata": {},
          "output_type": "execute_result"
        }
      ],
      "source": []
    },
    {
      "cell_type": "markdown",
      "metadata": {
        "id": "6nFJNzM-h5mP"
      },
      "source": [
        "**How many rows and columns are there?**"
      ]
    },
    {
      "cell_type": "code",
      "execution_count": null,
      "metadata": {
        "id": "bYhBLpO_h5mP",
        "outputId": "cf40910c-6f99-494e-f934-b5362c5a3c28"
      },
      "outputs": [
        {
          "name": "stdout",
          "output_type": "stream",
          "text": [
            "<class 'pandas.core.frame.DataFrame'>\n",
            "RangeIndex: 10000 entries, 0 to 9999\n",
            "Data columns (total 14 columns):\n",
            "Address             10000 non-null object\n",
            "Lot                 10000 non-null object\n",
            "AM or PM            10000 non-null object\n",
            "Browser Info        10000 non-null object\n",
            "Company             10000 non-null object\n",
            "Credit Card         10000 non-null int64\n",
            "CC Exp Date         10000 non-null object\n",
            "CC Security Code    10000 non-null int64\n",
            "CC Provider         10000 non-null object\n",
            "Email               10000 non-null object\n",
            "Job                 10000 non-null object\n",
            "IP Address          10000 non-null object\n",
            "Language            10000 non-null object\n",
            "Purchase Price      10000 non-null float64\n",
            "dtypes: float64(1), int64(2), object(11)\n",
            "memory usage: 1.1+ MB\n"
          ]
        }
      ],
      "source": []
    },
    {
      "cell_type": "markdown",
      "metadata": {
        "id": "w2EJIJpnh5mP"
      },
      "source": [
        "**What is the average Purchase Price?**"
      ]
    },
    {
      "cell_type": "code",
      "execution_count": null,
      "metadata": {
        "id": "ej4S1D_Ch5mP",
        "outputId": "0c91cb63-b789-4ffd-ff11-430e0bdf05a9"
      },
      "outputs": [
        {
          "data": {
            "text/plain": [
              "50.34730200000025"
            ]
          },
          "execution_count": 90,
          "metadata": {},
          "output_type": "execute_result"
        }
      ],
      "source": []
    },
    {
      "cell_type": "markdown",
      "metadata": {
        "id": "4Ul3RSg_h5mQ"
      },
      "source": [
        "**What were the highest and lowest purchase prices?**"
      ]
    },
    {
      "cell_type": "code",
      "execution_count": null,
      "metadata": {
        "id": "v6bOKDofh5mQ",
        "outputId": "c36f88a7-1bee-4a7e-9f20-5fccfec4081e"
      },
      "outputs": [
        {
          "data": {
            "text/plain": [
              "99.989999999999995"
            ]
          },
          "execution_count": 92,
          "metadata": {},
          "output_type": "execute_result"
        }
      ],
      "source": []
    },
    {
      "cell_type": "code",
      "execution_count": null,
      "metadata": {
        "id": "GjOZDDR1h5mQ",
        "outputId": "4b6603ba-71e4-4d48-f109-7e100963e571"
      },
      "outputs": [
        {
          "data": {
            "text/plain": [
              "0.0"
            ]
          },
          "execution_count": 93,
          "metadata": {},
          "output_type": "execute_result"
        }
      ],
      "source": []
    },
    {
      "cell_type": "markdown",
      "metadata": {
        "id": "15YKZ8KXh5mQ"
      },
      "source": [
        "**How many people have English 'en' as their Language of choice on the website?**"
      ]
    },
    {
      "cell_type": "code",
      "execution_count": null,
      "metadata": {
        "id": "CXyQk97wh5mQ",
        "outputId": "1f95cc52-02e0-4c00-815e-c51f2652ab72"
      },
      "outputs": [
        {
          "data": {
            "text/plain": [
              "Address             1098\n",
              "Lot                 1098\n",
              "AM or PM            1098\n",
              "Browser Info        1098\n",
              "Company             1098\n",
              "Credit Card         1098\n",
              "CC Exp Date         1098\n",
              "CC Security Code    1098\n",
              "CC Provider         1098\n",
              "Email               1098\n",
              "Job                 1098\n",
              "IP Address          1098\n",
              "Language            1098\n",
              "Purchase Price      1098\n",
              "dtype: int64"
            ]
          },
          "execution_count": 94,
          "metadata": {},
          "output_type": "execute_result"
        }
      ],
      "source": []
    },
    {
      "cell_type": "markdown",
      "metadata": {
        "id": "tSjQfANvh5mQ"
      },
      "source": [
        "**How many people have the job title of \"Lawyer\" ?**\n"
      ]
    },
    {
      "cell_type": "code",
      "execution_count": null,
      "metadata": {
        "id": "cB5pvZPXh5mR",
        "outputId": "4ac8890a-3d93-477f-dfb9-64adeb4225c5"
      },
      "outputs": [
        {
          "name": "stdout",
          "output_type": "stream",
          "text": [
            "<class 'pandas.core.frame.DataFrame'>\n",
            "Int64Index: 30 entries, 470 to 9979\n",
            "Data columns (total 14 columns):\n",
            "Address             30 non-null object\n",
            "Lot                 30 non-null object\n",
            "AM or PM            30 non-null object\n",
            "Browser Info        30 non-null object\n",
            "Company             30 non-null object\n",
            "Credit Card         30 non-null int64\n",
            "CC Exp Date         30 non-null object\n",
            "CC Security Code    30 non-null int64\n",
            "CC Provider         30 non-null object\n",
            "Email               30 non-null object\n",
            "Job                 30 non-null object\n",
            "IP Address          30 non-null object\n",
            "Language            30 non-null object\n",
            "Purchase Price      30 non-null float64\n",
            "dtypes: float64(1), int64(2), object(11)\n",
            "memory usage: 3.5+ KB\n"
          ]
        }
      ],
      "source": []
    },
    {
      "cell_type": "markdown",
      "metadata": {
        "id": "qubiHBGWh5mR"
      },
      "source": [
        "**How many people made the purchase during the AM and how many people made the purchase during PM ?**\n",
        "\n",
        "**(Hint: Check out [value_counts()](http://pandas.pydata.org/pandas-docs/stable/generated/pandas.Series.value_counts.html) )**"
      ]
    },
    {
      "cell_type": "code",
      "execution_count": null,
      "metadata": {
        "id": "R2Xo-1-lh5mR",
        "outputId": "e7922a3c-4a14-4a49-9e49-60f275c4943a"
      },
      "outputs": [
        {
          "data": {
            "text/plain": [
              "PM    5068\n",
              "AM    4932\n",
              "Name: AM or PM, dtype: int64"
            ]
          },
          "execution_count": 96,
          "metadata": {},
          "output_type": "execute_result"
        }
      ],
      "source": []
    },
    {
      "cell_type": "markdown",
      "metadata": {
        "id": "aXr5D_Teh5mR"
      },
      "source": [
        "**What are the 5 most common Job Titles?**"
      ]
    },
    {
      "cell_type": "code",
      "execution_count": null,
      "metadata": {
        "id": "8FhC9Llqh5mR",
        "outputId": "5b5cb799-4a49-4519-c7e8-90b9252fa451"
      },
      "outputs": [
        {
          "data": {
            "text/plain": [
              "Interior and spatial designer    31\n",
              "Lawyer                           30\n",
              "Social researcher                28\n",
              "Purchasing manager               27\n",
              "Designer, jewellery              27\n",
              "Name: Job, dtype: int64"
            ]
          },
          "execution_count": 97,
          "metadata": {},
          "output_type": "execute_result"
        }
      ],
      "source": []
    },
    {
      "cell_type": "markdown",
      "metadata": {
        "id": "nLHBUBKvh5mR"
      },
      "source": [
        "**Someone made a purchase that came from Lot: \"90 WT\" , what was the Purchase Price for this transaction?**"
      ]
    },
    {
      "cell_type": "code",
      "execution_count": null,
      "metadata": {
        "id": "MAWlrKlzh5mS",
        "outputId": "c1fd5409-275a-4d13-d3d7-b4421e65e76f"
      },
      "outputs": [
        {
          "data": {
            "text/plain": [
              "513    75.1\n",
              "Name: Purchase Price, dtype: float64"
            ]
          },
          "execution_count": 99,
          "metadata": {},
          "output_type": "execute_result"
        }
      ],
      "source": []
    },
    {
      "cell_type": "markdown",
      "metadata": {
        "id": "IeeKvDPth5mS"
      },
      "source": [
        "**What is the email of the person with the following Credit Card Number: 4926535242672853**"
      ]
    },
    {
      "cell_type": "code",
      "execution_count": null,
      "metadata": {
        "id": "cGG1cLmqh5mS",
        "outputId": "c41d41d2-9772-40fb-d79c-85ebb3a22199"
      },
      "outputs": [
        {
          "data": {
            "text/plain": [
              "1234    bondellen@williams-garza.com\n",
              "Name: Email, dtype: object"
            ]
          },
          "execution_count": 100,
          "metadata": {},
          "output_type": "execute_result"
        }
      ],
      "source": []
    },
    {
      "cell_type": "markdown",
      "metadata": {
        "id": "StsFhFa8h5mS"
      },
      "source": [
        "**How many people have American Express as their Credit Card Provider *and* made a purchase above $95 ?**"
      ]
    },
    {
      "cell_type": "code",
      "execution_count": null,
      "metadata": {
        "id": "Mrx-8xbzh5mS",
        "outputId": "4bc41986-7553-43ff-ae22-7477455371f7"
      },
      "outputs": [
        {
          "data": {
            "text/plain": [
              "Address             39\n",
              "Lot                 39\n",
              "AM or PM            39\n",
              "Browser Info        39\n",
              "Company             39\n",
              "Credit Card         39\n",
              "CC Exp Date         39\n",
              "CC Security Code    39\n",
              "CC Provider         39\n",
              "Email               39\n",
              "Job                 39\n",
              "IP Address          39\n",
              "Language            39\n",
              "Purchase Price      39\n",
              "dtype: int64"
            ]
          },
          "execution_count": 101,
          "metadata": {},
          "output_type": "execute_result"
        }
      ],
      "source": []
    },
    {
      "cell_type": "markdown",
      "metadata": {
        "id": "-dS5mA7ah5mS"
      },
      "source": [
        "**Hard: How many people have a credit card that expires in 2025?**"
      ]
    },
    {
      "cell_type": "code",
      "execution_count": null,
      "metadata": {
        "id": "vJaffgNlh5mS",
        "outputId": "f4b5aaaf-2d6b-4c99-a309-aec01837a99d"
      },
      "outputs": [
        {
          "data": {
            "text/plain": [
              "1033"
            ]
          },
          "execution_count": 102,
          "metadata": {},
          "output_type": "execute_result"
        }
      ],
      "source": []
    },
    {
      "cell_type": "markdown",
      "metadata": {
        "id": "1XqpwCIWh5mS"
      },
      "source": [
        "**Hard: What are the top 5 most popular email providers/hosts (e.g. gmail.com, yahoo.com, etc...)**"
      ]
    },
    {
      "cell_type": "code",
      "execution_count": null,
      "metadata": {
        "id": "40yLuosPh5mT",
        "outputId": "99e84eec-2fed-4307-ddce-f858725d6ab2"
      },
      "outputs": [
        {
          "data": {
            "text/plain": [
              "hotmail.com     1638\n",
              "yahoo.com       1616\n",
              "gmail.com       1605\n",
              "smith.com         42\n",
              "williams.com      37\n",
              "Name: Email, dtype: int64"
            ]
          },
          "execution_count": 56,
          "metadata": {},
          "output_type": "execute_result"
        }
      ],
      "source": []
    },
    {
      "cell_type": "markdown",
      "metadata": {
        "id": "pK_bDcj6h5mT"
      },
      "source": [
        "# End of Experiment No 3"
      ]
    }
  ],
  "metadata": {
    "kernelspec": {
      "display_name": "Python 3 (ipykernel)",
      "language": "python",
      "name": "python3"
    },
    "language_info": {
      "codemirror_mode": {
        "name": "ipython",
        "version": 3
      },
      "file_extension": ".py",
      "mimetype": "text/x-python",
      "name": "python",
      "nbconvert_exporter": "python",
      "pygments_lexer": "ipython3",
      "version": "3.11.5"
    },
    "colab": {
      "provenance": [],
      "include_colab_link": true
    }
  },
  "nbformat": 4,
  "nbformat_minor": 0
}